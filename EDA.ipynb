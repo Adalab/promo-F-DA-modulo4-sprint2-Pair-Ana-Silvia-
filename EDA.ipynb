{
 "cells": [
  {
   "cell_type": "code",
   "execution_count": 1,
   "metadata": {},
   "outputs": [],
   "source": [
    "import pandas as pd\n",
    "pd.set_option('display.max_columns', None)\n",
    "import numpy as np"
   ]
  },
  {
   "cell_type": "markdown",
   "metadata": {},
   "source": [
    "BOOKS DATA"
   ]
  },
  {
   "cell_type": "code",
   "execution_count": 2,
   "metadata": {},
   "outputs": [
    {
     "data": {
      "text/html": [
       "<div>\n",
       "<style scoped>\n",
       "    .dataframe tbody tr th:only-of-type {\n",
       "        vertical-align: middle;\n",
       "    }\n",
       "\n",
       "    .dataframe tbody tr th {\n",
       "        vertical-align: top;\n",
       "    }\n",
       "\n",
       "    .dataframe thead th {\n",
       "        text-align: right;\n",
       "    }\n",
       "</style>\n",
       "<table border=\"1\" class=\"dataframe\">\n",
       "  <thead>\n",
       "    <tr style=\"text-align: right;\">\n",
       "      <th></th>\n",
       "      <th>Publishing Year</th>\n",
       "      <th>Book Name</th>\n",
       "      <th>Author</th>\n",
       "      <th>language_code</th>\n",
       "      <th>Author_Rating</th>\n",
       "      <th>Book_average_rating</th>\n",
       "      <th>Book_ratings_count</th>\n",
       "      <th>genre</th>\n",
       "      <th>gross sales</th>\n",
       "      <th>publisher revenue</th>\n",
       "      <th>sale price</th>\n",
       "      <th>sales rank</th>\n",
       "      <th>Publisher</th>\n",
       "      <th>units sold</th>\n",
       "    </tr>\n",
       "    <tr>\n",
       "      <th>index</th>\n",
       "      <th></th>\n",
       "      <th></th>\n",
       "      <th></th>\n",
       "      <th></th>\n",
       "      <th></th>\n",
       "      <th></th>\n",
       "      <th></th>\n",
       "      <th></th>\n",
       "      <th></th>\n",
       "      <th></th>\n",
       "      <th></th>\n",
       "      <th></th>\n",
       "      <th></th>\n",
       "      <th></th>\n",
       "    </tr>\n",
       "  </thead>\n",
       "  <tbody>\n",
       "    <tr>\n",
       "      <th>0</th>\n",
       "      <td>1975.0</td>\n",
       "      <td>Beowulf</td>\n",
       "      <td>Unknown, Seamus Heaney</td>\n",
       "      <td>en-US</td>\n",
       "      <td>Novice</td>\n",
       "      <td>3.42</td>\n",
       "      <td>155903</td>\n",
       "      <td>genre fiction</td>\n",
       "      <td>34160.00</td>\n",
       "      <td>20496.000</td>\n",
       "      <td>4.88</td>\n",
       "      <td>1</td>\n",
       "      <td>HarperCollins Publishers</td>\n",
       "      <td>7000</td>\n",
       "    </tr>\n",
       "    <tr>\n",
       "      <th>1</th>\n",
       "      <td>1987.0</td>\n",
       "      <td>Batman: Year One</td>\n",
       "      <td>Frank Miller, David Mazzucchelli, Richmond Lew...</td>\n",
       "      <td>eng</td>\n",
       "      <td>Intermediate</td>\n",
       "      <td>4.23</td>\n",
       "      <td>145267</td>\n",
       "      <td>genre fiction</td>\n",
       "      <td>12437.50</td>\n",
       "      <td>7462.500</td>\n",
       "      <td>1.99</td>\n",
       "      <td>2</td>\n",
       "      <td>HarperCollins Publishers</td>\n",
       "      <td>6250</td>\n",
       "    </tr>\n",
       "    <tr>\n",
       "      <th>2</th>\n",
       "      <td>2015.0</td>\n",
       "      <td>Go Set a Watchman</td>\n",
       "      <td>Harper Lee</td>\n",
       "      <td>eng</td>\n",
       "      <td>Novice</td>\n",
       "      <td>3.31</td>\n",
       "      <td>138669</td>\n",
       "      <td>genre fiction</td>\n",
       "      <td>47795.00</td>\n",
       "      <td>28677.000</td>\n",
       "      <td>8.69</td>\n",
       "      <td>3</td>\n",
       "      <td>Amazon Digital Services,  Inc.</td>\n",
       "      <td>5500</td>\n",
       "    </tr>\n",
       "    <tr>\n",
       "      <th>3</th>\n",
       "      <td>2008.0</td>\n",
       "      <td>When You Are Engulfed in Flames</td>\n",
       "      <td>David Sedaris</td>\n",
       "      <td>en-US</td>\n",
       "      <td>Intermediate</td>\n",
       "      <td>4.04</td>\n",
       "      <td>150898</td>\n",
       "      <td>fiction</td>\n",
       "      <td>41250.00</td>\n",
       "      <td>24750.000</td>\n",
       "      <td>7.50</td>\n",
       "      <td>3</td>\n",
       "      <td>Hachette Book Group</td>\n",
       "      <td>5500</td>\n",
       "    </tr>\n",
       "    <tr>\n",
       "      <th>4</th>\n",
       "      <td>2011.0</td>\n",
       "      <td>Daughter of Smoke &amp; Bone</td>\n",
       "      <td>Laini Taylor</td>\n",
       "      <td>eng</td>\n",
       "      <td>Intermediate</td>\n",
       "      <td>4.04</td>\n",
       "      <td>198283</td>\n",
       "      <td>genre fiction</td>\n",
       "      <td>37952.50</td>\n",
       "      <td>22771.500</td>\n",
       "      <td>7.99</td>\n",
       "      <td>4</td>\n",
       "      <td>Penguin Group (USA) LLC</td>\n",
       "      <td>4750</td>\n",
       "    </tr>\n",
       "    <tr>\n",
       "      <th>...</th>\n",
       "      <td>...</td>\n",
       "      <td>...</td>\n",
       "      <td>...</td>\n",
       "      <td>...</td>\n",
       "      <td>...</td>\n",
       "      <td>...</td>\n",
       "      <td>...</td>\n",
       "      <td>...</td>\n",
       "      <td>...</td>\n",
       "      <td>...</td>\n",
       "      <td>...</td>\n",
       "      <td>...</td>\n",
       "      <td>...</td>\n",
       "      <td>...</td>\n",
       "    </tr>\n",
       "    <tr>\n",
       "      <th>1065</th>\n",
       "      <td>2014.0</td>\n",
       "      <td>Gray Mountain</td>\n",
       "      <td>John Grisham</td>\n",
       "      <td>eng</td>\n",
       "      <td>Intermediate</td>\n",
       "      <td>3.52</td>\n",
       "      <td>37379</td>\n",
       "      <td>nonfiction</td>\n",
       "      <td>104.94</td>\n",
       "      <td>62.964</td>\n",
       "      <td>0.99</td>\n",
       "      <td>1268</td>\n",
       "      <td>Amazon Digital Services,  Inc.</td>\n",
       "      <td>106</td>\n",
       "    </tr>\n",
       "    <tr>\n",
       "      <th>1066</th>\n",
       "      <td>1989.0</td>\n",
       "      <td>The Power of One</td>\n",
       "      <td>Bryce Courtenay</td>\n",
       "      <td>eng</td>\n",
       "      <td>Excellent</td>\n",
       "      <td>4.34</td>\n",
       "      <td>57312</td>\n",
       "      <td>genre fiction</td>\n",
       "      <td>846.94</td>\n",
       "      <td>508.164</td>\n",
       "      <td>7.99</td>\n",
       "      <td>1270</td>\n",
       "      <td>Random House LLC</td>\n",
       "      <td>106</td>\n",
       "    </tr>\n",
       "    <tr>\n",
       "      <th>1067</th>\n",
       "      <td>1930.0</td>\n",
       "      <td>The Maltese Falcon</td>\n",
       "      <td>Dashiell Hammett</td>\n",
       "      <td>eng</td>\n",
       "      <td>Intermediate</td>\n",
       "      <td>3.92</td>\n",
       "      <td>58742</td>\n",
       "      <td>genre fiction</td>\n",
       "      <td>846.94</td>\n",
       "      <td>508.164</td>\n",
       "      <td>7.99</td>\n",
       "      <td>1271</td>\n",
       "      <td>Hachette Book Group</td>\n",
       "      <td>106</td>\n",
       "    </tr>\n",
       "    <tr>\n",
       "      <th>1068</th>\n",
       "      <td>2011.0</td>\n",
       "      <td>Night Road</td>\n",
       "      <td>Kristin Hannah</td>\n",
       "      <td>en-US</td>\n",
       "      <td>Excellent</td>\n",
       "      <td>4.17</td>\n",
       "      <td>58028</td>\n",
       "      <td>genre fiction</td>\n",
       "      <td>104.94</td>\n",
       "      <td>62.964</td>\n",
       "      <td>0.99</td>\n",
       "      <td>1272</td>\n",
       "      <td>Amazon Digital Services,  Inc.</td>\n",
       "      <td>106</td>\n",
       "    </tr>\n",
       "    <tr>\n",
       "      <th>1069</th>\n",
       "      <td>1999.0</td>\n",
       "      <td>Tripwire</td>\n",
       "      <td>Lee Child</td>\n",
       "      <td>eng</td>\n",
       "      <td>Excellent</td>\n",
       "      <td>4.07</td>\n",
       "      <td>55251</td>\n",
       "      <td>genre fiction</td>\n",
       "      <td>316.94</td>\n",
       "      <td>0.000</td>\n",
       "      <td>2.99</td>\n",
       "      <td>1273</td>\n",
       "      <td>Amazon Digital Services,  Inc.</td>\n",
       "      <td>106</td>\n",
       "    </tr>\n",
       "  </tbody>\n",
       "</table>\n",
       "<p>1070 rows × 14 columns</p>\n",
       "</div>"
      ],
      "text/plain": [
       "       Publishing Year                        Book Name  \\\n",
       "index                                                     \n",
       "0               1975.0                          Beowulf   \n",
       "1               1987.0                 Batman: Year One   \n",
       "2               2015.0                Go Set a Watchman   \n",
       "3               2008.0  When You Are Engulfed in Flames   \n",
       "4               2011.0         Daughter of Smoke & Bone   \n",
       "...                ...                              ...   \n",
       "1065            2014.0                    Gray Mountain   \n",
       "1066            1989.0                 The Power of One   \n",
       "1067            1930.0               The Maltese Falcon   \n",
       "1068            2011.0                       Night Road   \n",
       "1069            1999.0                         Tripwire   \n",
       "\n",
       "                                                  Author language_code  \\\n",
       "index                                                                    \n",
       "0                                 Unknown, Seamus Heaney         en-US   \n",
       "1      Frank Miller, David Mazzucchelli, Richmond Lew...           eng   \n",
       "2                                             Harper Lee           eng   \n",
       "3                                          David Sedaris         en-US   \n",
       "4                                           Laini Taylor           eng   \n",
       "...                                                  ...           ...   \n",
       "1065                                        John Grisham           eng   \n",
       "1066                                     Bryce Courtenay           eng   \n",
       "1067                                    Dashiell Hammett           eng   \n",
       "1068                                      Kristin Hannah         en-US   \n",
       "1069                                           Lee Child           eng   \n",
       "\n",
       "      Author_Rating  Book_average_rating  Book_ratings_count          genre  \\\n",
       "index                                                                         \n",
       "0            Novice                 3.42              155903  genre fiction   \n",
       "1      Intermediate                 4.23              145267  genre fiction   \n",
       "2            Novice                 3.31              138669  genre fiction   \n",
       "3      Intermediate                 4.04              150898        fiction   \n",
       "4      Intermediate                 4.04              198283  genre fiction   \n",
       "...             ...                  ...                 ...            ...   \n",
       "1065   Intermediate                 3.52               37379     nonfiction   \n",
       "1066      Excellent                 4.34               57312  genre fiction   \n",
       "1067   Intermediate                 3.92               58742  genre fiction   \n",
       "1068      Excellent                 4.17               58028  genre fiction   \n",
       "1069      Excellent                 4.07               55251  genre fiction   \n",
       "\n",
       "       gross sales  publisher revenue  sale price  sales rank  \\\n",
       "index                                                           \n",
       "0         34160.00          20496.000        4.88           1   \n",
       "1         12437.50           7462.500        1.99           2   \n",
       "2         47795.00          28677.000        8.69           3   \n",
       "3         41250.00          24750.000        7.50           3   \n",
       "4         37952.50          22771.500        7.99           4   \n",
       "...            ...                ...         ...         ...   \n",
       "1065        104.94             62.964        0.99        1268   \n",
       "1066        846.94            508.164        7.99        1270   \n",
       "1067        846.94            508.164        7.99        1271   \n",
       "1068        104.94             62.964        0.99        1272   \n",
       "1069        316.94              0.000        2.99        1273   \n",
       "\n",
       "                           Publisher   units sold  \n",
       "index                                              \n",
       "0            HarperCollins Publishers        7000  \n",
       "1            HarperCollins Publishers        6250  \n",
       "2      Amazon Digital Services,  Inc.        5500  \n",
       "3                 Hachette Book Group        5500  \n",
       "4             Penguin Group (USA) LLC        4750  \n",
       "...                               ...         ...  \n",
       "1065   Amazon Digital Services,  Inc.         106  \n",
       "1066                 Random House LLC         106  \n",
       "1067              Hachette Book Group         106  \n",
       "1068   Amazon Digital Services,  Inc.         106  \n",
       "1069   Amazon Digital Services,  Inc.         106  \n",
       "\n",
       "[1070 rows x 14 columns]"
      ]
     },
     "execution_count": 2,
     "metadata": {},
     "output_type": "execute_result"
    }
   ],
   "source": [
    "df_books = pd.read_csv('Books_Data.csv', index_col=0)\n",
    "df_books"
   ]
  },
  {
   "cell_type": "code",
   "execution_count": 4,
   "metadata": {},
   "outputs": [
    {
     "data": {
      "text/plain": [
       "0"
      ]
     },
     "execution_count": 4,
     "metadata": {},
     "output_type": "execute_result"
    }
   ],
   "source": [
    "df_books.duplicated().sum()"
   ]
  },
  {
   "cell_type": "code",
   "execution_count": 5,
   "metadata": {},
   "outputs": [
    {
     "data": {
      "text/plain": [
       "Publishing Year         1\n",
       "Book Name              23\n",
       "Author                  0\n",
       "language_code          53\n",
       "Author_Rating           0\n",
       "Book_average_rating     0\n",
       "Book_ratings_count      0\n",
       "genre                   0\n",
       "gross sales             0\n",
       "publisher revenue       0\n",
       "sale price              0\n",
       "sales rank              0\n",
       "Publisher               0\n",
       "units sold              0\n",
       "dtype: int64"
      ]
     },
     "execution_count": 5,
     "metadata": {},
     "output_type": "execute_result"
    }
   ],
   "source": [
    "df_books.isnull().sum()"
   ]
  },
  {
   "cell_type": "code",
   "execution_count": 6,
   "metadata": {},
   "outputs": [],
   "source": [
    "df_books2 = df_books.dropna()"
   ]
  },
  {
   "cell_type": "code",
   "execution_count": 9,
   "metadata": {},
   "outputs": [
    {
     "data": {
      "text/plain": [
       "array([1975., 1987., 2015., 2008., 2011., 1994., 2012., 1905., 2004.,\n",
       "       1954., 2010., 1935., 1922., 1974., 1897., 2006., 1948., 2013.,\n",
       "       2000., 1993., 1981., 1891., 1856., 1961., 2003., 1986., 2005.,\n",
       "       1995., 1998., 1999., 1759., 1983., 1960., 1950., 1997., 2009.,\n",
       "       2002., 1849., 2007., 1967., 1968., 1959., 1605., 1980., 1901.,\n",
       "       1953., 1970., 2014., 1977., 1925., 1902., 1982., 1985., 1989.,\n",
       "       1991., 1880., 1956., 1390., 1852., 1909., 2001., 1972., 1958.,\n",
       "       1979., 1920., 1934., 1939., 1937., 1932., 1869., 1984., 1872.,\n",
       "       1996., 1603., 1949., 1929., 1992., 1947., 1971., 1976., 1988.,\n",
       "       1952., 1965., 1894., 1599., -380., 1593., 1831., 1899., 1812.,\n",
       "       1623., 1854., -430., 1908., 1596., 2016., 1990., 1601., 1978.,\n",
       "       1945., 1941., 1906., 1930., 1955., 1973., 1938., 1916., 1871.,\n",
       "       1864., 1962., 1667., 1927., 1964., 1868., 1859., 1847., 1874.,\n",
       "       1918., -300., 1969., 1835., 1915., 1883., -560., 1914., 1308.,\n",
       "       1881., 1966., 1933.,  -17., 1942., 1830., 1886., 1940., 1926.,\n",
       "       1848., 1826., 1912., 1963., 1853., 1890., -441., 1928., 1896.,\n",
       "       1957., 1911., 1879.])"
      ]
     },
     "execution_count": 9,
     "metadata": {},
     "output_type": "execute_result"
    }
   ],
   "source": [
    "df_books2['Publishing Year'].unique()"
   ]
  },
  {
   "cell_type": "code",
   "execution_count": 9,
   "metadata": {},
   "outputs": [],
   "source": [
    "def convertir_float_int(columna):\n",
    "    try:\n",
    "        numero = int(columna)\n",
    "        return numero\n",
    "    except:\n",
    "        return np.nan"
   ]
  },
  {
   "cell_type": "code",
   "execution_count": 16,
   "metadata": {},
   "outputs": [],
   "source": [
    "df_books2['Publishing Year'] = df_books2['Publishing Year'].apply(convertir_float_int)"
   ]
  },
  {
   "cell_type": "code",
   "execution_count": 17,
   "metadata": {},
   "outputs": [
    {
     "data": {
      "text/plain": [
       "dtype('int64')"
      ]
     },
     "execution_count": 17,
     "metadata": {},
     "output_type": "execute_result"
    }
   ],
   "source": [
    "df_books2['Publishing Year'].dtypes"
   ]
  },
  {
   "cell_type": "code",
   "execution_count": null,
   "metadata": {},
   "outputs": [],
   "source": []
  },
  {
   "cell_type": "code",
   "execution_count": null,
   "metadata": {},
   "outputs": [
    {
     "data": {
      "text/plain": [
       "Publishing Year         1\n",
       "Book Name              23\n",
       "Author                  0\n",
       "language_code          53\n",
       "Author_Rating           0\n",
       "Book_average_rating     0\n",
       "Book_ratings_count      0\n",
       "genre                   0\n",
       "gross sales             0\n",
       "publisher revenue       0\n",
       "sale price              0\n",
       "sales rank              0\n",
       "Publisher               0\n",
       "units sold              0\n",
       "dtype: int64"
      ]
     },
     "execution_count": 8,
     "metadata": {},
     "output_type": "execute_result"
    }
   ],
   "source": [
    "df.isnull().sum()"
   ]
  },
  {
   "cell_type": "code",
   "execution_count": null,
   "metadata": {},
   "outputs": [],
   "source": [
    " df['soldBy'] = df['soldBy'].fillna('Unknown')"
   ]
  },
  {
   "cell_type": "code",
   "execution_count": null,
   "metadata": {},
   "outputs": [],
   "source": [
    "df = df.drop('publishedDate', axis=1)"
   ]
  },
  {
   "cell_type": "code",
   "execution_count": null,
   "metadata": {},
   "outputs": [],
   "source": [
    "df = df.dropna()"
   ]
  },
  {
   "cell_type": "code",
   "execution_count": null,
   "metadata": {},
   "outputs": [
    {
     "data": {
      "text/plain": [
       "asin                 0\n",
       "title                0\n",
       "author               0\n",
       "soldBy               0\n",
       "imgUrl               0\n",
       "productURL           0\n",
       "stars                0\n",
       "reviews              0\n",
       "price                0\n",
       "isKindleUnlimited    0\n",
       "category_id          0\n",
       "isBestSeller         0\n",
       "isEditorsPick        0\n",
       "isGoodReadsChoice    0\n",
       "category_name        0\n",
       "dtype: int64"
      ]
     },
     "execution_count": 42,
     "metadata": {},
     "output_type": "execute_result"
    }
   ],
   "source": [
    "df.isnull().sum()"
   ]
  },
  {
   "cell_type": "code",
   "execution_count": 19,
   "metadata": {},
   "outputs": [],
   "source": [
    "df_books2.to_csv('books_data_clean.csv')"
   ]
  }
 ],
 "metadata": {
  "kernelspec": {
   "display_name": "base",
   "language": "python",
   "name": "python3"
  },
  "language_info": {
   "codemirror_mode": {
    "name": "ipython",
    "version": 3
   },
   "file_extension": ".py",
   "mimetype": "text/x-python",
   "name": "python",
   "nbconvert_exporter": "python",
   "pygments_lexer": "ipython3",
   "version": "3.11.7"
  }
 },
 "nbformat": 4,
 "nbformat_minor": 2
}
